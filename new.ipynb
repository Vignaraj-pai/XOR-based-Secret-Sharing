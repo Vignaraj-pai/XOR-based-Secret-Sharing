{
 "cells": [
  {
   "cell_type": "code",
   "execution_count": 95,
   "metadata": {},
   "outputs": [],
   "source": [
    "from PIL import Image\n",
    "import numpy as np\n",
    "import random\n",
    "import sys\n",
    "import os\n",
    "import shutil \n",
    "\n",
    "import matplotlib.pyplot as plt\n",
    "from Crypto.Cipher import ChaCha20\n",
    "from Crypto.Random import get_random_bytes\n",
    "from Crypto.Protocol.KDF import HKDF\n",
    "from Crypto.Hash import SHA256, HMAC"
   ]
  },
  {
   "cell_type": "code",
   "execution_count": 96,
   "metadata": {},
   "outputs": [],
   "source": [
    "#importing the image\n",
    "def import_image(image_path):\n",
    "    image = Image.open(image_path)\n",
    "    image = image.convert(\"RGB\")\n",
    "    image = image.resize((256, 256))\n",
    "    return image"
   ]
  },
  {
   "cell_type": "markdown",
   "metadata": {},
   "source": [
    "# **Creating Unique Keys**"
   ]
  },
  {
   "cell_type": "code",
   "execution_count": 97,
   "metadata": {},
   "outputs": [],
   "source": [
    "#Generating a unique id for all participants name the array ID\n",
    "def generate_id(num_participants):\n",
    "    ID = set()\n",
    "    while len(ID) < num_participants:\n",
    "        ID.add(random.randint(0, 1000))\n",
    "    return list(ID)\n",
    "\n",
    "\n",
    "# Creating unique key for each participant using HKDF and the master key r\n",
    "def generate_key(r, ID, salt):\n",
    "    key = []\n",
    "    for i in ID:\n",
    "        key.append(HKDF(r, 32, salt, SHA256, context=str(i).encode()))\n",
    "    return key\n"
   ]
  },
  {
   "cell_type": "markdown",
   "metadata": {},
   "source": [
    "# **Creating Pseudo-Shares**"
   ]
  },
  {
   "cell_type": "code",
   "execution_count": 98,
   "metadata": {},
   "outputs": [],
   "source": [
    "#Generating a dictionary for the nonce values to each unique particapant id\n",
    "def generate_nonce(ID):\n",
    "    nonce = {}\n",
    "    for i in ID:\n",
    "        nonce[i] = get_random_bytes(12)\n",
    "    return nonce\n",
    "\n",
    "#ChaCha20 encryption for each participant using key, nonce and plaintext\n",
    "def pseudo_share(key, nonce, plaintext):\n",
    "    I = {}\n",
    "    for i in range(len(key)):\n",
    "        cipher = ChaCha20.new(key=key[i], nonce=nonce[i])\n",
    "        I[i] = cipher.encrypt(plaintext)\n",
    "    return I\n"
   ]
  },
  {
   "cell_type": "code",
   "execution_count": null,
   "metadata": {},
   "outputs": [],
   "source": [
    "# HMAC Generation using SHA256\n",
    "def generate_hmacs(pseudo_shares, num_participants):\n",
    "    hmacs = []\n",
    "    for i in range(num_participants):\n",
    "        h = HMAC.new(pseudo_shares[i], digestmod=SHA256)\n",
    "        hmacs.append(h.hexdigest())\n",
    "    return hmacs\n",
    "\n",
    "\n",
    "def generate_random_images(num_participants):\n",
    "    random_images = []\n",
    "    # Generate a random master key\n",
    "    keys = [get_random_bytes(32)]\n",
    "    for i in range(num_participants):\n",
    "        key = get_random_bytes(32)\n",
    "        keys.append(key)\n",
    "        nonce = get_random_bytes(12)\n",
    "        cipher = ChaCha20.new(key=key, nonce=nonce)\n",
    "        random_images.append(cipher.encrypt(bytes(256 * 256 * 3)))\n",
    "    return (random_images, keys)\n",
    "\n",
    "def generate_random_images_with_keys(num_participants, keys):\n",
    "    random_images = []\n",
    "    for i in range(num_participants):\n",
    "        nonce = get_random_bytes(12)\n",
    "        cipher = ChaCha20.new(key=keys[i], nonce=nonce)\n",
    "        random_images.append(cipher.encrypt(bytes(256 * 256 * 3)))\n",
    "    return random_images"
   ]
  },
  {
   "cell_type": "code",
   "execution_count": 100,
   "metadata": {},
   "outputs": [],
   "source": [
    "#secret Reconstruction using Lagrange Interpolation\n",
    "def reconstruct_secret(shares, t):\n",
    "    secret = 0\n",
    "    for i in range(t):\n",
    "        num = 1\n",
    "        den = 1\n",
    "        for j in range(t):\n",
    "            if i != j:\n",
    "                num *= -j\n",
    "                den *= i - j\n",
    "        secret += shares[i] * num // den\n",
    "    return secret"
   ]
  },
  {
   "cell_type": "code",
   "execution_count": 105,
   "metadata": {},
   "outputs": [
    {
     "name": "stdout",
     "output_type": "stream",
     "text": [
      "Pseudo shares generated\n"
     ]
    }
   ],
   "source": [
    "IDs = generate_id(5)\n",
    "salt = get_random_bytes(16)\n",
    "r = get_random_bytes(16)\n",
    "key = generate_key(r, IDs, salt)\n",
    "nonce = generate_nonce(IDs)\n",
    "image = import_image(\"lena.png\")\n",
    "image_array = np.array(image)\n",
    "plaintext = \"this is secret\".encode()\n",
    "pseudo_shares = pseudo_share(key, list(nonce.values()), plaintext)\n",
    "print(\"Pseudo shares generated\")\n",
    "hmacs = generate_hmacs(pseudo_shares, 5)\n",
    "random_images, coeffecients = generate_random_images(3)\n",
    "\n",
    "# Convert byte images to numpy arrays\n",
    "random_images = [np.frombuffer(img, dtype=np.uint8).reshape(image_array.shape) for img in random_images]\n",
    "\n",
    "# Ensure image_array is uint8\n",
    "image_array = image_array.astype(np.uint8)\n",
    "\n",
    "# Perform XOR operation safely\n",
    "public_share = image_array ^ random_images[0] ^ random_images[1] ^ random_images[2]\n",
    "\n",
    "# Save the public share as an image \n",
    "public_share = Image.fromarray(public_share)\n",
    "public_share.save(\"public_share.png\")\n",
    "\n",
    "# Just to check if the public share is correct\n",
    "recovered_image = random_images[0] ^ random_images[1] ^ random_images[2] ^ public_share\n",
    "recovered_image = Image.fromarray(recovered_image)\n",
    "recovered_image.show()"
   ]
  },
  {
   "cell_type": "code",
   "execution_count": 113,
   "metadata": {},
   "outputs": [
    {
     "name": "stdout",
     "output_type": "stream",
     "text": [
      "XY values generated\n"
     ]
    }
   ],
   "source": [
    "def compute_polynomial_at_x(coefficients, x):\n",
    "    result = 0\n",
    "    for i in range(len(coefficients)):\n",
    "        result += coefficients[i] * (x ** i)\n",
    "    return result\n",
    "\n",
    "\n",
    "def lagrange_interpolation(x_values, y_values):\n",
    "    coefficients = [0] * len(x_values)\n",
    "    for i in range(len(x_values)):\n",
    "        numerator = 1\n",
    "        denominator = 1\n",
    "        for j in range(len(x_values)):\n",
    "            if i != j:\n",
    "                numerator *= -x_values[j]\n",
    "                denominator *= x_values[i] - x_values[j]\n",
    "        coefficients[i] = y_values[i] * numerator // denominator\n",
    "    return coefficients\n",
    "\n",
    "XY_values = []\n",
    "\n",
    "for i in range(len(pseudo_shares)):\n",
    "    pseudo_share_int = int.from_bytes(pseudo_shares[i], byteorder=\"big\")  # Convert to integer\n",
    "    coeffecients_ints = [int.from_bytes(c, byteorder=\"big\") for c in coeffecients]  # Convert to integer\n",
    "    XY_values.append((pseudo_share_int, compute_polynomial_at_x(coeffecients_ints, pseudo_share_int)))\n",
    "\n",
    "print(\"XY values generated\")"
   ]
  },
  {
   "cell_type": "code",
   "execution_count": 114,
   "metadata": {},
   "outputs": [],
   "source": [
    "recovered_coefficients = lagrange_interpolation([x for x, y in XY_values], [y for x, y in XY_values])"
   ]
  },
  {
   "cell_type": "code",
   "execution_count": 117,
   "metadata": {},
   "outputs": [
    {
     "ename": "OverflowError",
     "evalue": "int too big to convert",
     "output_type": "error",
     "traceback": [
      "\u001b[1;31m---------------------------------------------------------------------------\u001b[0m",
      "\u001b[1;31mOverflowError\u001b[0m                             Traceback (most recent call last)",
      "Cell \u001b[1;32mIn[117], line 3\u001b[0m\n\u001b[0;32m      1\u001b[0m \u001b[38;5;66;03m# generate the random matrices using the same keys and nonces\u001b[39;00m\n\u001b[0;32m      2\u001b[0m \u001b[38;5;66;03m# convert back recovered coefficients to bytes\u001b[39;00m\n\u001b[1;32m----> 3\u001b[0m recovered_coefficients \u001b[38;5;241m=\u001b[39m \u001b[43m[\u001b[49m\u001b[38;5;28;43mint\u001b[39;49m\u001b[38;5;241;43m.\u001b[39;49m\u001b[43mto_bytes\u001b[49m\u001b[43m(\u001b[49m\u001b[43mc\u001b[49m\u001b[43m,\u001b[49m\u001b[43m \u001b[49m\u001b[38;5;241;43m32\u001b[39;49m\u001b[43m,\u001b[49m\u001b[43m \u001b[49m\u001b[43mbyteorder\u001b[49m\u001b[38;5;241;43m=\u001b[39;49m\u001b[38;5;124;43m\"\u001b[39;49m\u001b[38;5;124;43mbig\u001b[39;49m\u001b[38;5;124;43m\"\u001b[39;49m\u001b[43m)\u001b[49m\u001b[43m \u001b[49m\u001b[38;5;28;43;01mfor\u001b[39;49;00m\u001b[43m \u001b[49m\u001b[43mc\u001b[49m\u001b[43m \u001b[49m\u001b[38;5;129;43;01min\u001b[39;49;00m\u001b[43m \u001b[49m\u001b[43mrecovered_coefficients\u001b[49m\u001b[43m]\u001b[49m\n\u001b[0;32m      4\u001b[0m random_images, _ \u001b[38;5;241m=\u001b[39m generate_random_images_with_key(\u001b[38;5;241m3\u001b[39m, recovered_coefficients[\u001b[38;5;241m1\u001b[39m:])\n\u001b[0;32m      5\u001b[0m random_images \u001b[38;5;241m=\u001b[39m [np\u001b[38;5;241m.\u001b[39mfrombuffer(img, dtype\u001b[38;5;241m=\u001b[39mnp\u001b[38;5;241m.\u001b[39muint8)\u001b[38;5;241m.\u001b[39mreshape(image_array\u001b[38;5;241m.\u001b[39mshape) \u001b[38;5;28;01mfor\u001b[39;00m img \u001b[38;5;129;01min\u001b[39;00m random_images]\n",
      "Cell \u001b[1;32mIn[117], line 3\u001b[0m, in \u001b[0;36m<listcomp>\u001b[1;34m(.0)\u001b[0m\n\u001b[0;32m      1\u001b[0m \u001b[38;5;66;03m# generate the random matrices using the same keys and nonces\u001b[39;00m\n\u001b[0;32m      2\u001b[0m \u001b[38;5;66;03m# convert back recovered coefficients to bytes\u001b[39;00m\n\u001b[1;32m----> 3\u001b[0m recovered_coefficients \u001b[38;5;241m=\u001b[39m [\u001b[38;5;28;43mint\u001b[39;49m\u001b[38;5;241;43m.\u001b[39;49m\u001b[43mto_bytes\u001b[49m\u001b[43m(\u001b[49m\u001b[43mc\u001b[49m\u001b[43m,\u001b[49m\u001b[43m \u001b[49m\u001b[38;5;241;43m32\u001b[39;49m\u001b[43m,\u001b[49m\u001b[43m \u001b[49m\u001b[43mbyteorder\u001b[49m\u001b[38;5;241;43m=\u001b[39;49m\u001b[38;5;124;43m\"\u001b[39;49m\u001b[38;5;124;43mbig\u001b[39;49m\u001b[38;5;124;43m\"\u001b[39;49m\u001b[43m)\u001b[49m \u001b[38;5;28;01mfor\u001b[39;00m c \u001b[38;5;129;01min\u001b[39;00m recovered_coefficients]\n\u001b[0;32m      4\u001b[0m random_images, _ \u001b[38;5;241m=\u001b[39m generate_random_images_with_key(\u001b[38;5;241m3\u001b[39m, recovered_coefficients[\u001b[38;5;241m1\u001b[39m:])\n\u001b[0;32m      5\u001b[0m random_images \u001b[38;5;241m=\u001b[39m [np\u001b[38;5;241m.\u001b[39mfrombuffer(img, dtype\u001b[38;5;241m=\u001b[39mnp\u001b[38;5;241m.\u001b[39muint8)\u001b[38;5;241m.\u001b[39mreshape(image_array\u001b[38;5;241m.\u001b[39mshape) \u001b[38;5;28;01mfor\u001b[39;00m img \u001b[38;5;129;01min\u001b[39;00m random_images]\n",
      "\u001b[1;31mOverflowError\u001b[0m: int too big to convert"
     ]
    }
   ],
   "source": [
    "# generate the random matrices using the same keys and nonces\n",
    "# convert back recovered coefficients to bytes\n",
    "recovered_coefficients = [int.to_bytes(c, 32, byteorder=\"big\") for c in recovered_coefficients]\n",
    "random_images, _ = generate_random_images_with_key(3, recovered_coefficients[1:])\n",
    "random_images = [np.frombuffer(img, dtype=np.uint8).reshape(image_array.shape) for img in random_images]\n",
    "\n",
    "# Perform XOR operation safely\n",
    "recovered_image = random_images[0] ^ random_images[1] ^ random_images[2] ^ public_share\n",
    "\n",
    "# Save the recovered image\n",
    "recovered_image = Image.fromarray(recovered_image)\n",
    "recovered_image.save(\"recovered_image.png\")\n",
    "recovered_image"
   ]
  },
  {
   "cell_type": "code",
   "execution_count": null,
   "metadata": {},
   "outputs": [],
   "source": []
  }
 ],
 "metadata": {
  "kernelspec": {
   "display_name": "myenv",
   "language": "python",
   "name": "python3"
  },
  "language_info": {
   "codemirror_mode": {
    "name": "ipython",
    "version": 3
   },
   "file_extension": ".py",
   "mimetype": "text/x-python",
   "name": "python",
   "nbconvert_exporter": "python",
   "pygments_lexer": "ipython3",
   "version": "3.11.9"
  }
 },
 "nbformat": 4,
 "nbformat_minor": 2
}
